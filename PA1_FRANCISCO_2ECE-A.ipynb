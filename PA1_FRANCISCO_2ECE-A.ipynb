{
 "cells": [
  {
   "cell_type": "markdown",
   "id": "060ec9cb-8f05-41f4-9a07-41384c25cf69",
   "metadata": {},
   "source": [
    "# PA 1 - INTRODUCTION TO PYTHON PROGRAMMING"
   ]
  },
  {
   "cell_type": "markdown",
   "id": "d75490ae-64c6-4aa2-b615-c0f408d1198e",
   "metadata": {},
   "source": [
    "//NO. 1 ALPHABET SOUP PROBLEM"
   ]
  },
  {
   "cell_type": "code",
   "execution_count": 5,
   "id": "4ebfe7ab-d869-400d-943e-13182f61f9df",
   "metadata": {},
   "outputs": [
    {
     "name": "stdin",
     "output_type": "stream",
     "text": [
      "ENTER A WORD:  Maximiel Francisco\n"
     ]
    },
    {
     "name": "stdout",
     "output_type": "stream",
     "text": [
      "SORTED WORD:  FMaacceiiilmnorsx\n"
     ]
    }
   ],
   "source": [
    "#FUNCTION TO SORT\n",
    "def alphabet_soup(w):\n",
    "    return ''.join(sorted(w))\n",
    "\n",
    "#INPUT ANY WORD TO SORT\n",
    "word = input(\"ENTER A WORD: \")\n",
    "\n",
    "print(\"SORTED WORD:\", alphabet_soup(word))"
   ]
  },
  {
   "cell_type": "markdown",
   "id": "63d7a167-2a7f-4e64-8dc3-030032be48dc",
   "metadata": {},
   "source": [
    "//NO. 2 EMOTICON PROBLEM"
   ]
  },
  {
   "cell_type": "code",
   "execution_count": null,
   "id": "f745b84d-88aa-41ee-97cd-d3f5ef0a65ab",
   "metadata": {},
   "outputs": [],
   "source": [
    "# WORDS INTO EMOTIONS\n",
    "def emotify(phrases):\n",
    "    # WORDS TO EMOJIS\n",
    "    emoticons = {\n",
    "        \"smile\": \":)\",\n",
    "        \"grin\": \":D\",\n",
    "        \"sad\": \":((\",\n",
    "        \"mad\": \">:(\"\n",
    "    }\n",
    "\n",
    "    # FUNCTION TO REPLACE WORDS TO EMOJIS\n",
    "    for word, symbol in emoticons.items():\n",
    "        phrases = phrases.replace(word, symbol)\n",
    "\n",
    "    return phrases\n",
    "\n",
    "sentence = input(\"ENTER A SENTENCE: \")\n",
    "print(\"CONVERTED EMOJI:\", emotify(sentence))"
   ]
  },
  {
   "cell_type": "markdown",
   "id": "efb979df-55f6-4780-b28a-9cf2241210cc",
   "metadata": {},
   "source": [
    "//NO. 3 UNPACKING LIST PROBLEM"
   ]
  },
  {
   "cell_type": "code",
   "execution_count": 4,
   "id": "db48c5d5-c48b-477b-aa10-f306b5acd1d3",
   "metadata": {},
   "outputs": [
    {
     "name": "stdin",
     "output_type": "stream",
     "text": [
      "ENTER LIST :  1 4 2 7 4 7 8 \n"
     ]
    },
    {
     "name": "stdout",
     "output_type": "stream",
     "text": [
      "First:  1\n",
      "Middle:  ['4', '2', '7', '4', '7']\n",
      "Last:  8\n"
     ]
    }
   ],
   "source": [
    "## LIST TO SEPARATE\n",
    "user_input = input(\"ENTER LIST : \")\n",
    "\n",
    "# ARRANGE NUMBERS\n",
    "lst = user_input.split()\n",
    "\n",
    "# 3 WAYS SEPARATION\n",
    "if len(lst) >= 2:\n",
    "    first, *middle, last = lst\n",
    "    print(\"First: \", first)\n",
    "    print(\"Middle: \", middle)\n",
    "    print(\"Last: \", last)\n",
    "else:\n",
    "    print(\"INPUT MINIMUM OF TWO NUMBERS :>\")"
   ]
  },
  {
   "cell_type": "code",
   "execution_count": null,
   "id": "ea2559a5-a6a1-4699-b8e6-00c13546e219",
   "metadata": {},
   "outputs": [],
   "source": []
  }
 ],
 "metadata": {
  "kernelspec": {
   "display_name": "Python [conda env:base] *",
   "language": "python",
   "name": "conda-base-py"
  },
  "language_info": {
   "codemirror_mode": {
    "name": "ipython",
    "version": 3
   },
   "file_extension": ".py",
   "mimetype": "text/x-python",
   "name": "python",
   "nbconvert_exporter": "python",
   "pygments_lexer": "ipython3",
   "version": "3.13.5"
  }
 },
 "nbformat": 4,
 "nbformat_minor": 5
}
